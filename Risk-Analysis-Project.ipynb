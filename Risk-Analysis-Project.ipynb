{
 "cells": [
  {
   "cell_type": "markdown",
   "id": "2ca31535",
   "metadata": {},
   "source": [
    "**Libraries**"
   ]
  },
  {
   "cell_type": "code",
   "execution_count": 84,
   "id": "6b7df57f",
   "metadata": {},
   "outputs": [],
   "source": [
    "import pandas as pd\n",
    "import numpy as np\n",
    "import matplotlib.pyplot as plt\n",
    "import seaborn as sns\n",
    "import gradio as gr"
   ]
  },
  {
   "cell_type": "markdown",
   "id": "2dd12ce7",
   "metadata": {},
   "source": [
    "**Data Import**"
   ]
  },
  {
   "cell_type": "code",
   "execution_count": 38,
   "id": "18b0eff2",
   "metadata": {},
   "outputs": [],
   "source": [
    "df=pd.read_csv(r'C:\\MS Excel for Work\\Banking.csv')"
   ]
  },
  {
   "cell_type": "markdown",
   "id": "148a2265",
   "metadata": {},
   "source": []
  },
  {
   "cell_type": "markdown",
   "id": "e895f6f2",
   "metadata": {},
   "source": [
    "**Data Exploratory & Cleaning**"
   ]
  },
  {
   "cell_type": "code",
   "execution_count": 3,
   "id": "9b7e09ef",
   "metadata": {},
   "outputs": [
    {
     "data": {
      "text/html": [
       "<div>\n",
       "<style scoped>\n",
       "    .dataframe tbody tr th:only-of-type {\n",
       "        vertical-align: middle;\n",
       "    }\n",
       "\n",
       "    .dataframe tbody tr th {\n",
       "        vertical-align: top;\n",
       "    }\n",
       "\n",
       "    .dataframe thead th {\n",
       "        text-align: right;\n",
       "    }\n",
       "</style>\n",
       "<table border=\"1\" class=\"dataframe\">\n",
       "  <thead>\n",
       "    <tr style=\"text-align: right;\">\n",
       "      <th></th>\n",
       "      <th>Client ID</th>\n",
       "      <th>Name</th>\n",
       "      <th>Age</th>\n",
       "      <th>Location ID</th>\n",
       "      <th>Joined Bank</th>\n",
       "      <th>Banking Contact</th>\n",
       "      <th>Nationality</th>\n",
       "      <th>Occupation</th>\n",
       "      <th>Fee Structure</th>\n",
       "      <th>Loyalty Classification</th>\n",
       "      <th>...</th>\n",
       "      <th>Bank Deposits</th>\n",
       "      <th>Checking Accounts</th>\n",
       "      <th>Saving Accounts</th>\n",
       "      <th>Foreign Currency Account</th>\n",
       "      <th>Business Lending</th>\n",
       "      <th>Properties Owned</th>\n",
       "      <th>Risk Weighting</th>\n",
       "      <th>BRId</th>\n",
       "      <th>GenderId</th>\n",
       "      <th>IAId</th>\n",
       "    </tr>\n",
       "  </thead>\n",
       "  <tbody>\n",
       "    <tr>\n",
       "      <th>0</th>\n",
       "      <td>IND81288</td>\n",
       "      <td>Raymond Mills</td>\n",
       "      <td>24</td>\n",
       "      <td>34324</td>\n",
       "      <td>06-05-2019</td>\n",
       "      <td>Anthony Torres</td>\n",
       "      <td>American</td>\n",
       "      <td>Safety Technician IV</td>\n",
       "      <td>High</td>\n",
       "      <td>Jade</td>\n",
       "      <td>...</td>\n",
       "      <td>1485828.64</td>\n",
       "      <td>603617.88</td>\n",
       "      <td>607332.46</td>\n",
       "      <td>12249.96</td>\n",
       "      <td>1134475.30</td>\n",
       "      <td>1</td>\n",
       "      <td>2</td>\n",
       "      <td>1</td>\n",
       "      <td>1</td>\n",
       "      <td>1</td>\n",
       "    </tr>\n",
       "    <tr>\n",
       "      <th>1</th>\n",
       "      <td>IND65833</td>\n",
       "      <td>Julia Spencer</td>\n",
       "      <td>23</td>\n",
       "      <td>42205</td>\n",
       "      <td>10-12-2001</td>\n",
       "      <td>Jonathan Hawkins</td>\n",
       "      <td>African</td>\n",
       "      <td>Software Consultant</td>\n",
       "      <td>High</td>\n",
       "      <td>Jade</td>\n",
       "      <td>...</td>\n",
       "      <td>641482.79</td>\n",
       "      <td>229521.37</td>\n",
       "      <td>344635.16</td>\n",
       "      <td>61162.31</td>\n",
       "      <td>2000526.10</td>\n",
       "      <td>1</td>\n",
       "      <td>3</td>\n",
       "      <td>2</td>\n",
       "      <td>1</td>\n",
       "      <td>2</td>\n",
       "    </tr>\n",
       "    <tr>\n",
       "      <th>2</th>\n",
       "      <td>IND47499</td>\n",
       "      <td>Stephen Murray</td>\n",
       "      <td>27</td>\n",
       "      <td>7314</td>\n",
       "      <td>25-01-2010</td>\n",
       "      <td>Anthony Berry</td>\n",
       "      <td>European</td>\n",
       "      <td>Help Desk Operator</td>\n",
       "      <td>High</td>\n",
       "      <td>Gold</td>\n",
       "      <td>...</td>\n",
       "      <td>1033401.59</td>\n",
       "      <td>652674.69</td>\n",
       "      <td>203054.35</td>\n",
       "      <td>79071.78</td>\n",
       "      <td>548137.58</td>\n",
       "      <td>1</td>\n",
       "      <td>3</td>\n",
       "      <td>3</td>\n",
       "      <td>2</td>\n",
       "      <td>3</td>\n",
       "    </tr>\n",
       "    <tr>\n",
       "      <th>3</th>\n",
       "      <td>IND72498</td>\n",
       "      <td>Virginia Garza</td>\n",
       "      <td>40</td>\n",
       "      <td>34594</td>\n",
       "      <td>28-03-2019</td>\n",
       "      <td>Steve Diaz</td>\n",
       "      <td>American</td>\n",
       "      <td>Geologist II</td>\n",
       "      <td>Mid</td>\n",
       "      <td>Silver</td>\n",
       "      <td>...</td>\n",
       "      <td>1048157.49</td>\n",
       "      <td>1048157.49</td>\n",
       "      <td>234685.02</td>\n",
       "      <td>57513.65</td>\n",
       "      <td>1148402.29</td>\n",
       "      <td>0</td>\n",
       "      <td>4</td>\n",
       "      <td>4</td>\n",
       "      <td>1</td>\n",
       "      <td>4</td>\n",
       "    </tr>\n",
       "    <tr>\n",
       "      <th>4</th>\n",
       "      <td>IND60181</td>\n",
       "      <td>Melissa Sanders</td>\n",
       "      <td>46</td>\n",
       "      <td>41269</td>\n",
       "      <td>20-07-2012</td>\n",
       "      <td>Shawn Long</td>\n",
       "      <td>American</td>\n",
       "      <td>Assistant Professor</td>\n",
       "      <td>Mid</td>\n",
       "      <td>Platinum</td>\n",
       "      <td>...</td>\n",
       "      <td>487782.53</td>\n",
       "      <td>446644.25</td>\n",
       "      <td>128351.45</td>\n",
       "      <td>30012.14</td>\n",
       "      <td>1674412.12</td>\n",
       "      <td>0</td>\n",
       "      <td>3</td>\n",
       "      <td>1</td>\n",
       "      <td>2</td>\n",
       "      <td>5</td>\n",
       "    </tr>\n",
       "  </tbody>\n",
       "</table>\n",
       "<p>5 rows × 25 columns</p>\n",
       "</div>"
      ],
      "text/plain": [
       "  Client ID             Name  Age  Location ID Joined Bank   Banking Contact  \\\n",
       "0  IND81288    Raymond Mills   24        34324  06-05-2019    Anthony Torres   \n",
       "1  IND65833    Julia Spencer   23        42205  10-12-2001  Jonathan Hawkins   \n",
       "2  IND47499   Stephen Murray   27         7314  25-01-2010     Anthony Berry   \n",
       "3  IND72498   Virginia Garza   40        34594  28-03-2019        Steve Diaz   \n",
       "4  IND60181  Melissa Sanders   46        41269  20-07-2012        Shawn Long   \n",
       "\n",
       "  Nationality            Occupation Fee Structure Loyalty Classification  ...  \\\n",
       "0    American  Safety Technician IV          High                   Jade  ...   \n",
       "1     African   Software Consultant          High                   Jade  ...   \n",
       "2    European    Help Desk Operator          High                   Gold  ...   \n",
       "3    American          Geologist II           Mid                 Silver  ...   \n",
       "4    American   Assistant Professor           Mid               Platinum  ...   \n",
       "\n",
       "   Bank Deposits  Checking Accounts  Saving Accounts  \\\n",
       "0     1485828.64          603617.88        607332.46   \n",
       "1      641482.79          229521.37        344635.16   \n",
       "2     1033401.59          652674.69        203054.35   \n",
       "3     1048157.49         1048157.49        234685.02   \n",
       "4      487782.53          446644.25        128351.45   \n",
       "\n",
       "   Foreign Currency Account  Business Lending  Properties Owned  \\\n",
       "0                  12249.96        1134475.30                 1   \n",
       "1                  61162.31        2000526.10                 1   \n",
       "2                  79071.78         548137.58                 1   \n",
       "3                  57513.65        1148402.29                 0   \n",
       "4                  30012.14        1674412.12                 0   \n",
       "\n",
       "   Risk Weighting  BRId  GenderId  IAId  \n",
       "0               2     1         1     1  \n",
       "1               3     2         1     2  \n",
       "2               3     3         2     3  \n",
       "3               4     4         1     4  \n",
       "4               3     1         2     5  \n",
       "\n",
       "[5 rows x 25 columns]"
      ]
     },
     "execution_count": 3,
     "metadata": {},
     "output_type": "execute_result"
    }
   ],
   "source": [
    "df.head()"
   ]
  },
  {
   "cell_type": "code",
   "execution_count": 4,
   "id": "42f61e14",
   "metadata": {},
   "outputs": [
    {
     "data": {
      "text/plain": [
       "(3000, 25)"
      ]
     },
     "execution_count": 4,
     "metadata": {},
     "output_type": "execute_result"
    }
   ],
   "source": [
    "df.shape"
   ]
  },
  {
   "cell_type": "code",
   "execution_count": 5,
   "id": "b48e288e",
   "metadata": {},
   "outputs": [
    {
     "data": {
      "text/plain": [
       "75000"
      ]
     },
     "execution_count": 5,
     "metadata": {},
     "output_type": "execute_result"
    }
   ],
   "source": [
    "df.size"
   ]
  },
  {
   "cell_type": "code",
   "execution_count": 6,
   "id": "d4634145",
   "metadata": {},
   "outputs": [
    {
     "data": {
      "text/html": [
       "<div>\n",
       "<style scoped>\n",
       "    .dataframe tbody tr th:only-of-type {\n",
       "        vertical-align: middle;\n",
       "    }\n",
       "\n",
       "    .dataframe tbody tr th {\n",
       "        vertical-align: top;\n",
       "    }\n",
       "\n",
       "    .dataframe thead th {\n",
       "        text-align: right;\n",
       "    }\n",
       "</style>\n",
       "<table border=\"1\" class=\"dataframe\">\n",
       "  <thead>\n",
       "    <tr style=\"text-align: right;\">\n",
       "      <th></th>\n",
       "      <th>Age</th>\n",
       "      <th>Location ID</th>\n",
       "      <th>Estimated Income</th>\n",
       "      <th>Superannuation Savings</th>\n",
       "      <th>Amount of Credit Cards</th>\n",
       "      <th>Credit Card Balance</th>\n",
       "      <th>Bank Loans</th>\n",
       "      <th>Bank Deposits</th>\n",
       "      <th>Checking Accounts</th>\n",
       "      <th>Saving Accounts</th>\n",
       "      <th>Foreign Currency Account</th>\n",
       "      <th>Business Lending</th>\n",
       "      <th>Properties Owned</th>\n",
       "      <th>Risk Weighting</th>\n",
       "      <th>BRId</th>\n",
       "      <th>GenderId</th>\n",
       "      <th>IAId</th>\n",
       "    </tr>\n",
       "  </thead>\n",
       "  <tbody>\n",
       "    <tr>\n",
       "      <th>count</th>\n",
       "      <td>3000.000000</td>\n",
       "      <td>3000.000000</td>\n",
       "      <td>3000.000000</td>\n",
       "      <td>3000.000000</td>\n",
       "      <td>3000.000000</td>\n",
       "      <td>3000.000000</td>\n",
       "      <td>3.000000e+03</td>\n",
       "      <td>3.000000e+03</td>\n",
       "      <td>3.000000e+03</td>\n",
       "      <td>3.000000e+03</td>\n",
       "      <td>3000.000000</td>\n",
       "      <td>3.000000e+03</td>\n",
       "      <td>3000.000000</td>\n",
       "      <td>3000.000000</td>\n",
       "      <td>3000.000000</td>\n",
       "      <td>3000.000000</td>\n",
       "      <td>3000.000000</td>\n",
       "    </tr>\n",
       "    <tr>\n",
       "      <th>mean</th>\n",
       "      <td>51.039667</td>\n",
       "      <td>21563.323000</td>\n",
       "      <td>171305.034263</td>\n",
       "      <td>25531.599673</td>\n",
       "      <td>1.463667</td>\n",
       "      <td>3176.206943</td>\n",
       "      <td>5.913862e+05</td>\n",
       "      <td>6.715602e+05</td>\n",
       "      <td>3.210929e+05</td>\n",
       "      <td>2.329084e+05</td>\n",
       "      <td>29883.529993</td>\n",
       "      <td>8.667598e+05</td>\n",
       "      <td>1.518667</td>\n",
       "      <td>2.249333</td>\n",
       "      <td>2.559333</td>\n",
       "      <td>1.504000</td>\n",
       "      <td>10.425333</td>\n",
       "    </tr>\n",
       "    <tr>\n",
       "      <th>std</th>\n",
       "      <td>19.854760</td>\n",
       "      <td>12462.273017</td>\n",
       "      <td>111935.808209</td>\n",
       "      <td>16259.950770</td>\n",
       "      <td>0.676387</td>\n",
       "      <td>2497.094709</td>\n",
       "      <td>4.575570e+05</td>\n",
       "      <td>6.457169e+05</td>\n",
       "      <td>2.820796e+05</td>\n",
       "      <td>2.300078e+05</td>\n",
       "      <td>23109.924010</td>\n",
       "      <td>6.412303e+05</td>\n",
       "      <td>1.102145</td>\n",
       "      <td>1.131191</td>\n",
       "      <td>1.007713</td>\n",
       "      <td>0.500067</td>\n",
       "      <td>5.988242</td>\n",
       "    </tr>\n",
       "    <tr>\n",
       "      <th>min</th>\n",
       "      <td>17.000000</td>\n",
       "      <td>12.000000</td>\n",
       "      <td>15919.480000</td>\n",
       "      <td>1482.030000</td>\n",
       "      <td>1.000000</td>\n",
       "      <td>1.170000</td>\n",
       "      <td>0.000000e+00</td>\n",
       "      <td>0.000000e+00</td>\n",
       "      <td>0.000000e+00</td>\n",
       "      <td>0.000000e+00</td>\n",
       "      <td>45.000000</td>\n",
       "      <td>0.000000e+00</td>\n",
       "      <td>0.000000</td>\n",
       "      <td>1.000000</td>\n",
       "      <td>1.000000</td>\n",
       "      <td>1.000000</td>\n",
       "      <td>1.000000</td>\n",
       "    </tr>\n",
       "    <tr>\n",
       "      <th>25%</th>\n",
       "      <td>34.000000</td>\n",
       "      <td>10803.500000</td>\n",
       "      <td>82906.595000</td>\n",
       "      <td>12513.775000</td>\n",
       "      <td>1.000000</td>\n",
       "      <td>1236.630000</td>\n",
       "      <td>2.396281e+05</td>\n",
       "      <td>2.044004e+05</td>\n",
       "      <td>1.199475e+05</td>\n",
       "      <td>7.479440e+04</td>\n",
       "      <td>11916.542500</td>\n",
       "      <td>3.748251e+05</td>\n",
       "      <td>1.000000</td>\n",
       "      <td>1.000000</td>\n",
       "      <td>2.000000</td>\n",
       "      <td>1.000000</td>\n",
       "      <td>5.000000</td>\n",
       "    </tr>\n",
       "    <tr>\n",
       "      <th>50%</th>\n",
       "      <td>51.000000</td>\n",
       "      <td>21129.500000</td>\n",
       "      <td>142313.480000</td>\n",
       "      <td>22357.355000</td>\n",
       "      <td>1.000000</td>\n",
       "      <td>2560.805000</td>\n",
       "      <td>4.797934e+05</td>\n",
       "      <td>4.633165e+05</td>\n",
       "      <td>2.428157e+05</td>\n",
       "      <td>1.640866e+05</td>\n",
       "      <td>24341.190000</td>\n",
       "      <td>7.113147e+05</td>\n",
       "      <td>2.000000</td>\n",
       "      <td>2.000000</td>\n",
       "      <td>3.000000</td>\n",
       "      <td>2.000000</td>\n",
       "      <td>10.000000</td>\n",
       "    </tr>\n",
       "    <tr>\n",
       "      <th>75%</th>\n",
       "      <td>69.000000</td>\n",
       "      <td>32054.500000</td>\n",
       "      <td>242290.305000</td>\n",
       "      <td>35464.740000</td>\n",
       "      <td>2.000000</td>\n",
       "      <td>4522.632500</td>\n",
       "      <td>8.258130e+05</td>\n",
       "      <td>9.427546e+05</td>\n",
       "      <td>4.348749e+05</td>\n",
       "      <td>3.155750e+05</td>\n",
       "      <td>41966.392500</td>\n",
       "      <td>1.185110e+06</td>\n",
       "      <td>2.000000</td>\n",
       "      <td>3.000000</td>\n",
       "      <td>3.000000</td>\n",
       "      <td>2.000000</td>\n",
       "      <td>15.000000</td>\n",
       "    </tr>\n",
       "    <tr>\n",
       "      <th>max</th>\n",
       "      <td>85.000000</td>\n",
       "      <td>43369.000000</td>\n",
       "      <td>522330.260000</td>\n",
       "      <td>75963.900000</td>\n",
       "      <td>3.000000</td>\n",
       "      <td>13991.990000</td>\n",
       "      <td>2.667557e+06</td>\n",
       "      <td>3.890598e+06</td>\n",
       "      <td>1.969923e+06</td>\n",
       "      <td>1.724118e+06</td>\n",
       "      <td>124704.870000</td>\n",
       "      <td>3.825962e+06</td>\n",
       "      <td>3.000000</td>\n",
       "      <td>5.000000</td>\n",
       "      <td>4.000000</td>\n",
       "      <td>2.000000</td>\n",
       "      <td>22.000000</td>\n",
       "    </tr>\n",
       "  </tbody>\n",
       "</table>\n",
       "</div>"
      ],
      "text/plain": [
       "               Age   Location ID  Estimated Income  Superannuation Savings  \\\n",
       "count  3000.000000   3000.000000       3000.000000             3000.000000   \n",
       "mean     51.039667  21563.323000     171305.034263            25531.599673   \n",
       "std      19.854760  12462.273017     111935.808209            16259.950770   \n",
       "min      17.000000     12.000000      15919.480000             1482.030000   \n",
       "25%      34.000000  10803.500000      82906.595000            12513.775000   \n",
       "50%      51.000000  21129.500000     142313.480000            22357.355000   \n",
       "75%      69.000000  32054.500000     242290.305000            35464.740000   \n",
       "max      85.000000  43369.000000     522330.260000            75963.900000   \n",
       "\n",
       "       Amount of Credit Cards  Credit Card Balance    Bank Loans  \\\n",
       "count             3000.000000          3000.000000  3.000000e+03   \n",
       "mean                 1.463667          3176.206943  5.913862e+05   \n",
       "std                  0.676387          2497.094709  4.575570e+05   \n",
       "min                  1.000000             1.170000  0.000000e+00   \n",
       "25%                  1.000000          1236.630000  2.396281e+05   \n",
       "50%                  1.000000          2560.805000  4.797934e+05   \n",
       "75%                  2.000000          4522.632500  8.258130e+05   \n",
       "max                  3.000000         13991.990000  2.667557e+06   \n",
       "\n",
       "       Bank Deposits  Checking Accounts  Saving Accounts  \\\n",
       "count   3.000000e+03       3.000000e+03     3.000000e+03   \n",
       "mean    6.715602e+05       3.210929e+05     2.329084e+05   \n",
       "std     6.457169e+05       2.820796e+05     2.300078e+05   \n",
       "min     0.000000e+00       0.000000e+00     0.000000e+00   \n",
       "25%     2.044004e+05       1.199475e+05     7.479440e+04   \n",
       "50%     4.633165e+05       2.428157e+05     1.640866e+05   \n",
       "75%     9.427546e+05       4.348749e+05     3.155750e+05   \n",
       "max     3.890598e+06       1.969923e+06     1.724118e+06   \n",
       "\n",
       "       Foreign Currency Account  Business Lending  Properties Owned  \\\n",
       "count               3000.000000      3.000000e+03       3000.000000   \n",
       "mean               29883.529993      8.667598e+05          1.518667   \n",
       "std                23109.924010      6.412303e+05          1.102145   \n",
       "min                   45.000000      0.000000e+00          0.000000   \n",
       "25%                11916.542500      3.748251e+05          1.000000   \n",
       "50%                24341.190000      7.113147e+05          2.000000   \n",
       "75%                41966.392500      1.185110e+06          2.000000   \n",
       "max               124704.870000      3.825962e+06          3.000000   \n",
       "\n",
       "       Risk Weighting         BRId     GenderId         IAId  \n",
       "count     3000.000000  3000.000000  3000.000000  3000.000000  \n",
       "mean         2.249333     2.559333     1.504000    10.425333  \n",
       "std          1.131191     1.007713     0.500067     5.988242  \n",
       "min          1.000000     1.000000     1.000000     1.000000  \n",
       "25%          1.000000     2.000000     1.000000     5.000000  \n",
       "50%          2.000000     3.000000     2.000000    10.000000  \n",
       "75%          3.000000     3.000000     2.000000    15.000000  \n",
       "max          5.000000     4.000000     2.000000    22.000000  "
      ]
     },
     "execution_count": 6,
     "metadata": {},
     "output_type": "execute_result"
    }
   ],
   "source": [
    "df.describe()"
   ]
  },
  {
   "cell_type": "code",
   "execution_count": 7,
   "id": "8ae5fac2",
   "metadata": {},
   "outputs": [
    {
     "data": {
      "text/plain": [
       "np.int64(0)"
      ]
     },
     "execution_count": 7,
     "metadata": {},
     "output_type": "execute_result"
    }
   ],
   "source": [
    "df.duplicated().sum()"
   ]
  },
  {
   "cell_type": "code",
   "execution_count": 8,
   "id": "4752b34e",
   "metadata": {},
   "outputs": [
    {
     "data": {
      "text/plain": [
       "Client ID                   0\n",
       "Name                        0\n",
       "Age                         0\n",
       "Location ID                 0\n",
       "Joined Bank                 0\n",
       "Banking Contact             0\n",
       "Nationality                 0\n",
       "Occupation                  0\n",
       "Fee Structure               0\n",
       "Loyalty Classification      0\n",
       "Estimated Income            0\n",
       "Superannuation Savings      0\n",
       "Amount of Credit Cards      0\n",
       "Credit Card Balance         0\n",
       "Bank Loans                  0\n",
       "Bank Deposits               0\n",
       "Checking Accounts           0\n",
       "Saving Accounts             0\n",
       "Foreign Currency Account    0\n",
       "Business Lending            0\n",
       "Properties Owned            0\n",
       "Risk Weighting              0\n",
       "BRId                        0\n",
       "GenderId                    0\n",
       "IAId                        0\n",
       "dtype: int64"
      ]
     },
     "execution_count": 8,
     "metadata": {},
     "output_type": "execute_result"
    }
   ],
   "source": [
    "df.isnull().sum()"
   ]
  },
  {
   "cell_type": "code",
   "execution_count": 9,
   "id": "d3aeeded",
   "metadata": {},
   "outputs": [
    {
     "name": "stdout",
     "output_type": "stream",
     "text": [
      "<class 'pandas.core.frame.DataFrame'>\n",
      "RangeIndex: 3000 entries, 0 to 2999\n",
      "Data columns (total 25 columns):\n",
      " #   Column                    Non-Null Count  Dtype  \n",
      "---  ------                    --------------  -----  \n",
      " 0   Client ID                 3000 non-null   object \n",
      " 1   Name                      3000 non-null   object \n",
      " 2   Age                       3000 non-null   int64  \n",
      " 3   Location ID               3000 non-null   int64  \n",
      " 4   Joined Bank               3000 non-null   object \n",
      " 5   Banking Contact           3000 non-null   object \n",
      " 6   Nationality               3000 non-null   object \n",
      " 7   Occupation                3000 non-null   object \n",
      " 8   Fee Structure             3000 non-null   object \n",
      " 9   Loyalty Classification    3000 non-null   object \n",
      " 10  Estimated Income          3000 non-null   float64\n",
      " 11  Superannuation Savings    3000 non-null   float64\n",
      " 12  Amount of Credit Cards    3000 non-null   int64  \n",
      " 13  Credit Card Balance       3000 non-null   float64\n",
      " 14  Bank Loans                3000 non-null   float64\n",
      " 15  Bank Deposits             3000 non-null   float64\n",
      " 16  Checking Accounts         3000 non-null   float64\n",
      " 17  Saving Accounts           3000 non-null   float64\n",
      " 18  Foreign Currency Account  3000 non-null   float64\n",
      " 19  Business Lending          3000 non-null   float64\n",
      " 20  Properties Owned          3000 non-null   int64  \n",
      " 21  Risk Weighting            3000 non-null   int64  \n",
      " 22  BRId                      3000 non-null   int64  \n",
      " 23  GenderId                  3000 non-null   int64  \n",
      " 24  IAId                      3000 non-null   int64  \n",
      "dtypes: float64(9), int64(8), object(8)\n",
      "memory usage: 586.1+ KB\n"
     ]
    }
   ],
   "source": [
    "df.info()"
   ]
  },
  {
   "cell_type": "code",
   "execution_count": 10,
   "id": "07aac9cd",
   "metadata": {},
   "outputs": [
    {
     "data": {
      "text/plain": [
       "Index(['Client ID', 'Name', 'Age', 'Location ID', 'Joined Bank',\n",
       "       'Banking Contact', 'Nationality', 'Occupation', 'Fee Structure',\n",
       "       'Loyalty Classification', 'Estimated Income', 'Superannuation Savings',\n",
       "       'Amount of Credit Cards', 'Credit Card Balance', 'Bank Loans',\n",
       "       'Bank Deposits', 'Checking Accounts', 'Saving Accounts',\n",
       "       'Foreign Currency Account', 'Business Lending', 'Properties Owned',\n",
       "       'Risk Weighting', 'BRId', 'GenderId', 'IAId'],\n",
       "      dtype='object')"
      ]
     },
     "execution_count": 10,
     "metadata": {},
     "output_type": "execute_result"
    }
   ],
   "source": [
    "df.columns"
   ]
  },
  {
   "cell_type": "code",
   "execution_count": 11,
   "id": "e5e92390",
   "metadata": {},
   "outputs": [
    {
     "data": {
      "text/plain": [
       "array([1, 2])"
      ]
     },
     "execution_count": 11,
     "metadata": {},
     "output_type": "execute_result"
    }
   ],
   "source": [
    "df['GenderId'].unique()"
   ]
  },
  {
   "cell_type": "code",
   "execution_count": 12,
   "id": "7546c521",
   "metadata": {},
   "outputs": [
    {
     "data": {
      "text/plain": [
       "0       1\n",
       "1       1\n",
       "2       2\n",
       "3       1\n",
       "4       2\n",
       "       ..\n",
       "2995    2\n",
       "2996    2\n",
       "2997    2\n",
       "2998    2\n",
       "2999    2\n",
       "Name: GenderId, Length: 3000, dtype: int64"
      ]
     },
     "execution_count": 12,
     "metadata": {},
     "output_type": "execute_result"
    }
   ],
   "source": [
    "df['GenderId']"
   ]
  },
  {
   "cell_type": "code",
   "execution_count": 17,
   "id": "dee1d084",
   "metadata": {},
   "outputs": [],
   "source": [
    "bins=[0,100000,300000, float('inf')]\n",
    "labels=['Low','Med','High']\n",
    "\n",
    "df['Income Band']=pd.cut(df['Estimated Income'], bins=bins, labels=labels, right=False)"
   ]
  },
  {
   "cell_type": "code",
   "execution_count": 18,
   "id": "8d4dd66b",
   "metadata": {},
   "outputs": [
    {
     "data": {
      "text/plain": [
       "<Axes: xlabel='Income Band'>"
      ]
     },
     "execution_count": 18,
     "metadata": {},
     "output_type": "execute_result"
    },
    {
     "data": {
      "image/png": "[encoded data removed]",
      "text/plain": [
       "<Figure size 640x480 with 1 Axes>"
      ]
     },
     "metadata": {},
     "output_type": "display_data"
    }
   ],
   "source": [
    "df['Income Band'].value_counts().plot(kind='bar')"
   ]
  },
  {
   "cell_type": "code",
   "execution_count": 37,
   "id": "20f68c9a",
   "metadata": {},
   "outputs": [
    {
     "data": {
      "text/plain": [
       "Index(['Feature1', 'Feature2', 'Feature3'], dtype='object')"
      ]
     },
     "execution_count": 37,
     "metadata": {},
     "output_type": "execute_result"
    }
   ],
   "source": [
    "df.columns"
   ]
  },
  {
   "cell_type": "code",
   "execution_count": 42,
   "id": "44db72e6",
   "metadata": {},
   "outputs": [
    {
     "data": {
      "image/png": "[encoded data removed]",
      "text/plain": [
       "<Figure size 640x480 with 1 Axes>"
      ]
     },
     "metadata": {},
     "output_type": "display_data"
    }
   ],
   "source": [
    "df.boxplot(column=[\"Estimated Income\", \"Risk Weighting\"], label=\"Estimated Income\")\n",
    "plt.title(\"Box Plot Comparison of Estimated Income and Risk Weighting\")\n",
    "plt.xlabel(\"Estimated Income\")\n",
    "plt.ylabel(\"Risk Weighting\")\n",
    "plt.legend()\n",
    "plt.show()"
   ]
  },
  {
   "cell_type": "code",
   "execution_count": 62,
   "id": "731e334b",
   "metadata": {},
   "outputs": [
    {
     "data": {
      "image/png": "[encoded data removed]",
      "text/plain": [
       "<Figure size 640x480 with 1 Axes>"
      ]
     },
     "metadata": {},
     "output_type": "display_data"
    }
   ],
   "source": [
    "df.boxplot(column=['Properties Owned','Risk Weighting'])\n",
    "plt.xlabel('Properties owned')\n",
    "plt.ylabel('Risk Weighting')\n",
    "plt.show()"
   ]
  },
  {
   "cell_type": "code",
   "execution_count": 65,
   "id": "31b36146",
   "metadata": {},
   "outputs": [
    {
     "data": {
      "image/png": "[encoded data removed]",
      "text/plain": [
       "<Figure size 800x600 with 1 Axes>"
      ]
     },
     "metadata": {},
     "output_type": "display_data"
    }
   ],
   "source": [
    "plt.figure(figsize=(8,6))\n",
    "sns.barplot(x=df['Checking Accounts'], y=df['Saving Accounts'])\n",
    "plt.title(\"Checking Accounts Vs Savings Accounts\")\n",
    "plt.xlabel('Checking Accounts')\n",
    "plt.ylabel('Savings Accounts')\n",
    "plt.show()"
   ]
  },
  {
   "cell_type": "code",
   "execution_count": 46,
   "id": "8f9acaa1",
   "metadata": {},
   "outputs": [
    {
     "data": {
      "image/png": "[encoded data removed]",
      "text/plain": [
       "<Figure size 800x600 with 1 Axes>"
      ]
     },
     "metadata": {},
     "output_type": "display_data"
    }
   ],
   "source": [
    "plt.figure(figsize=(8,6))\n",
    "plt.scatter(df['Amount of Credit Cards'],df['Credit Card Balance'])\n",
    "plt.xlabel('Amount of Credit Cards')\n",
    "plt.ylabel('Credit Card Balance')\n",
    "plt.show()"
   ]
  },
  {
   "cell_type": "code",
   "execution_count": 69,
   "id": "101bc19f",
   "metadata": {},
   "outputs": [],
   "source": [
    "df['Risk Weighting']=df['Risk Weighting'].replace('2','1', regex=True).replace('3','0', regex=True).astype(float)"
   ]
  },
  {
   "cell_type": "code",
   "execution_count": 75,
   "id": "be2ad2bb",
   "metadata": {},
   "outputs": [],
   "source": [
    "df['Loyalty Classification']=df['Loyalty Classification'].str.replace('Platinum', '1', regex=True).replace('Gold','1', regex=True).replace('Jade','0', regex=True).replace('Silver','0', regex=True).astype(float)"
   ]
  },
  {
   "cell_type": "code",
   "execution_count": 76,
   "id": "17fc09e9",
   "metadata": {},
   "outputs": [
    {
     "data": {
      "text/plain": [
       "0       0.0\n",
       "1       0.0\n",
       "2       1.0\n",
       "3       0.0\n",
       "4       1.0\n",
       "       ... \n",
       "2995    1.0\n",
       "2996    1.0\n",
       "2997    0.0\n",
       "2998    0.0\n",
       "2999    0.0\n",
       "Name: Loyalty Classification, Length: 3000, dtype: float64"
      ]
     },
     "execution_count": 76,
     "metadata": {},
     "output_type": "execute_result"
    }
   ],
   "source": [
    "df['Loyalty Classification']"
   ]
  },
  {
   "cell_type": "code",
   "execution_count": 79,
   "id": "b5f4a4c8",
   "metadata": {},
   "outputs": [
    {
     "name": "stdout",
     "output_type": "stream",
     "text": [
      "[0. 1.]\n"
     ]
    }
   ],
   "source": [
    "print(df[\"Loyalty Classification\"].unique())  # Ensure it's only 0s and 1s"
   ]
  },
  {
   "cell_type": "code",
   "execution_count": 80,
   "id": "6787b69c",
   "metadata": {},
   "outputs": [
    {
     "name": "stdout",
     "output_type": "stream",
     "text": [
      "Model Accuracy: 0.68\n"
     ]
    },
    {
     "name": "stderr",
     "output_type": "stream",
     "text": [
      "c:\\Users\\moham\\AppData\\Local\\Programs\\Python\\Python313\\Lib\\site-packages\\sklearn\\linear_model\\_logistic.py:465: ConvergenceWarning: lbfgs failed to converge (status=1):\n",
      "STOP: TOTAL NO. OF ITERATIONS REACHED LIMIT.\n",
      "\n",
      "Increase the number of iterations (max_iter) or scale the data as shown in:\n",
      "    https://scikit-learn.org/stable/modules/preprocessing.html\n",
      "Please also refer to the documentation for alternative solver options:\n",
      "    https://scikit-learn.org/stable/modules/linear_model.html#logistic-regression\n",
      "  n_iter_i = _check_optimize_result(\n"
     ]
    }
   ],
   "source": [
    "from sklearn.model_selection import train_test_split\n",
    "from sklearn.linear_model import LogisticRegression\n",
    "from sklearn.metrics import accuracy_score\n",
    "\n",
    "# Select relevant features (adjust based on your dataset)\n",
    "X = df[[\"Estimated Income\", \"Risk Weighting\", \"Credit Card Balance\", \"Bank Loans\", \"Business Lending\"]]\n",
    "y = df[\"Loyalty Classification\"]  # Binary Target Variable\n",
    "\n",
    "# Split dataset into training & testing sets\n",
    "X_train, X_test, y_train, y_test = train_test_split(X, y, test_size=0.2, random_state=42)\n",
    "\n",
    "# Train Logistic Regression Model\n",
    "model = LogisticRegression()\n",
    "model.fit(X_train, y_train)\n",
    "\n",
    "# Make predictions\n",
    "y_pred = model.predict(X_test)\n",
    "\n",
    "# Evaluate model accuracy\n",
    "print(\"Model Accuracy:\", accuracy_score(y_test, y_pred))"
   ]
  },
  {
   "cell_type": "code",
   "execution_count": 81,
   "id": "3f124bc2",
   "metadata": {},
   "outputs": [
    {
     "name": "stderr",
     "output_type": "stream",
     "text": [
      "c:\\Users\\moham\\AppData\\Local\\Programs\\Python\\Python313\\Lib\\site-packages\\sklearn\\linear_model\\_logistic.py:465: ConvergenceWarning: lbfgs failed to converge (status=1):\n",
      "STOP: TOTAL NO. OF ITERATIONS REACHED LIMIT.\n",
      "\n",
      "Increase the number of iterations (max_iter) or scale the data as shown in:\n",
      "    https://scikit-learn.org/stable/modules/preprocessing.html\n",
      "Please also refer to the documentation for alternative solver options:\n",
      "    https://scikit-learn.org/stable/modules/linear_model.html#logistic-regression\n",
      "  n_iter_i = _check_optimize_result(\n"
     ]
    },
    {
     "data": {
      "text/html": [
       "<style>#sk-container-id-1 {\n",
       "  /* Definition of color scheme common for light and dark mode */\n",
       "  --sklearn-color-text: #000;\n",
       "  --sklearn-color-text-muted: #666;\n",
       "  --sklearn-color-line: gray;\n",
       "  /* Definition of color scheme for unfitted estimators */\n",
       "  --sklearn-color-unfitted-level-0: #fff5e6;\n",
       "  --sklearn-color-unfitted-level-1: #f6e4d2;\n",
       "  --sklearn-color-unfitted-level-2: #ffe0b3;\n",
       "  --sklearn-color-unfitted-level-3: chocolate;\n",
       "  /* Definition of color scheme for fitted estimators */\n",
       "  --sklearn-color-fitted-level-0: #f0f8ff;\n",
       "  --sklearn-color-fitted-level-1: #d4ebff;\n",
       "  --sklearn-color-fitted-level-2: #b3dbfd;\n",
       "  --sklearn-color-fitted-level-3: cornflowerblue;\n",
       "\n",
       "  /* Specific color for light theme */\n",
       "  --sklearn-color-text-on-default-background: var(--sg-text-color, var(--theme-code-foreground, var(--jp-content-font-color1, black)));\n",
       "  --sklearn-color-background: var(--sg-background-color, var(--theme-background, var(--jp-layout-color0, white)));\n",
       "  --sklearn-color-border-box: var(--sg-text-color, var(--theme-code-foreground, var(--jp-content-font-color1, black)));\n",
       "  --sklearn-color-icon: #696969;\n",
       "\n",
       "  @media (prefers-color-scheme: dark) {\n",
       "    /* Redefinition of color scheme for dark theme */\n",
       "    --sklearn-color-text-on-default-background: var(--sg-text-color, var(--theme-code-foreground, var(--jp-content-font-color1, white)));\n",
       "    --sklearn-color-background: var(--sg-background-color, var(--theme-background, var(--jp-layout-color0, #111)));\n",
       "    --sklearn-color-border-box: var(--sg-text-color, var(--theme-code-foreground, var(--jp-content-font-color1, white)));\n",
       "    --sklearn-color-icon: #878787;\n",
       "  }\n",
       "}\n",
       "\n",
       "#sk-container-id-1 {\n",
       "  color: var(--sklearn-color-text);\n",
       "}\n",
       "\n",
       "#sk-container-id-1 pre {\n",
       "  padding: 0;\n",
       "}\n",
       "\n",
       "#sk-container-id-1 input.sk-hidden--visually {\n",
       "  border: 0;\n",
       "  clip: rect(1px 1px 1px 1px);\n",
       "  clip: rect(1px, 1px, 1px, 1px);\n",
       "  height: 1px;\n",
       "  margin: -1px;\n",
       "  overflow: hidden;\n",
       "  padding: 0;\n",
       "  position: absolute;\n",
       "  width: 1px;\n",
       "}\n",
       "\n",
       "#sk-container-id-1 div.sk-dashed-wrapped {\n",
       "  border: 1px dashed var(--sklearn-color-line);\n",
       "  margin: 0 0.4em 0.5em 0.4em;\n",
       "  box-sizing: border-box;\n",
       "  padding-bottom: 0.4em;\n",
       "  background-color: var(--sklearn-color-background);\n",
       "}\n",
       "\n",
       "#sk-container-id-1 div.sk-container {\n",
       "  /* jupyter's `normalize.less` sets `[hidden] { display: none; }`\n",
       "     but bootstrap.min.css set `[hidden] { display: none !important; }`\n",
       "     so we also need the `!important` here to be able to override the\n",
       "     default hidden behavior on the sphinx rendered scikit-learn.org.\n",
       "     See: https://github.com/scikit-learn/scikit-learn/issues/21755 */\n",
       "  display: inline-block !important;\n",
       "  position: relative;\n",
       "}\n",
       "\n",
       "#sk-container-id-1 div.sk-text-repr-fallback {\n",
       "  display: none;\n",
       "}\n",
       "\n",
       "div.sk-parallel-item,\n",
       "div.sk-serial,\n",
       "div.sk-item {\n",
       "  /* draw centered vertical line to link estimators */\n",
       "  background-image: linear-gradient(var(--sklearn-color-text-on-default-background), var(--sklearn-color-text-on-default-background));\n",
       "  background-size: 2px 100%;\n",
       "  background-repeat: no-repeat;\n",
       "  background-position: center center;\n",
       "}\n",
       "\n",
       "/* Parallel-specific style estimator block */\n",
       "\n",
       "#sk-container-id-1 div.sk-parallel-item::after {\n",
       "  content: \"\";\n",
       "  width: 100%;\n",
       "  border-bottom: 2px solid var(--sklearn-color-text-on-default-background);\n",
       "  flex-grow: 1;\n",
       "}\n",
       "\n",
       "#sk-container-id-1 div.sk-parallel {\n",
       "  display: flex;\n",
       "  align-items: stretch;\n",
       "  justify-content: center;\n",
       "  background-color: var(--sklearn-color-background);\n",
       "  position: relative;\n",
       "}\n",
       "\n",
       "#sk-container-id-1 div.sk-parallel-item {\n",
       "  display: flex;\n",
       "  flex-direction: column;\n",
       "}\n",
       "\n",
       "#sk-container-id-1 div.sk-parallel-item:first-child::after {\n",
       "  align-self: flex-end;\n",
       "  width: 50%;\n",
       "}\n",
       "\n",
       "#sk-container-id-1 div.sk-parallel-item:last-child::after {\n",
       "  align-self: flex-start;\n",
       "  width: 50%;\n",
       "}\n",
       "\n",
       "#sk-container-id-1 div.sk-parallel-item:only-child::after {\n",
       "  width: 0;\n",
       "}\n",
       "\n",
       "/* Serial-specific style estimator block */\n",
       "\n",
       "#sk-container-id-1 div.sk-serial {\n",
       "  display: flex;\n",
       "  flex-direction: column;\n",
       "  align-items: center;\n",
       "  background-color: var(--sklearn-color-background);\n",
       "  padding-right: 1em;\n",
       "  padding-left: 1em;\n",
       "}\n",
       "\n",
       "\n",
       "/* Toggleable style: style used for estimator/Pipeline/ColumnTransformer box that is\n",
       "clickable and can be expanded/collapsed.\n",
       "- Pipeline and ColumnTransformer use this feature and define the default style\n",
       "- Estimators will overwrite some part of the style using the `sk-estimator` class\n",
       "*/\n",
       "\n",
       "/* Pipeline and ColumnTransformer style (default) */\n",
       "\n",
       "#sk-container-id-1 div.sk-toggleable {\n",
       "  /* Default theme specific background. It is overwritten whether we have a\n",
       "  specific estimator or a Pipeline/ColumnTransformer */\n",
       "  background-color: var(--sklearn-color-background);\n",
       "}\n",
       "\n",
       "/* Toggleable label */\n",
       "#sk-container-id-1 label.sk-toggleable__label {\n",
       "  cursor: pointer;\n",
       "  display: flex;\n",
       "  width: 100%;\n",
       "  margin-bottom: 0;\n",
       "  padding: 0.5em;\n",
       "  box-sizing: border-box;\n",
       "  text-align: center;\n",
       "  align-items: start;\n",
       "  justify-content: space-between;\n",
       "  gap: 0.5em;\n",
       "}\n",
       "\n",
       "#sk-container-id-1 label.sk-toggleable__label .caption {\n",
       "  font-size: 0.6rem;\n",
       "  font-weight: lighter;\n",
       "  color: var(--sklearn-color-text-muted);\n",
       "}\n",
       "\n",
       "#sk-container-id-1 label.sk-toggleable__label-arrow:before {\n",
       "  /* Arrow on the left of the label */\n",
       "  content: \"▸\";\n",
       "  float: left;\n",
       "  margin-right: 0.25em;\n",
       "  color: var(--sklearn-color-icon);\n",
       "}\n",
       "\n",
       "#sk-container-id-1 label.sk-toggleable__label-arrow:hover:before {\n",
       "  color: var(--sklearn-color-text);\n",
       "}\n",
       "\n",
       "/* Toggleable content - dropdown */\n",
       "\n",
       "#sk-container-id-1 div.sk-toggleable__content {\n",
       "  max-height: 0;\n",
       "  max-width: 0;\n",
       "  overflow: hidden;\n",
       "  text-align: left;\n",
       "  /* unfitted */\n",
       "  background-color: var(--sklearn-color-unfitted-level-0);\n",
       "}\n",
       "\n",
       "#sk-container-id-1 div.sk-toggleable__content.fitted {\n",
       "  /* fitted */\n",
       "  background-color: var(--sklearn-color-fitted-level-0);\n",
       "}\n",
       "\n",
       "#sk-container-id-1 div.sk-toggleable__content pre {\n",
       "  margin: 0.2em;\n",
       "  border-radius: 0.25em;\n",
       "  color: var(--sklearn-color-text);\n",
       "  /* unfitted */\n",
       "  background-color: var(--sklearn-color-unfitted-level-0);\n",
       "}\n",
       "\n",
       "#sk-container-id-1 div.sk-toggleable__content.fitted pre {\n",
       "  /* unfitted */\n",
       "  background-color: var(--sklearn-color-fitted-level-0);\n",
       "}\n",
       "\n",
       "#sk-container-id-1 input.sk-toggleable__control:checked~div.sk-toggleable__content {\n",
       "  /* Expand drop-down */\n",
       "  max-height: 200px;\n",
       "  max-width: 100%;\n",
       "  overflow: auto;\n",
       "}\n",
       "\n",
       "#sk-container-id-1 input.sk-toggleable__control:checked~label.sk-toggleable__label-arrow:before {\n",
       "  content: \"▾\";\n",
       "}\n",
       "\n",
       "/* Pipeline/ColumnTransformer-specific style */\n",
       "\n",
       "#sk-container-id-1 div.sk-label input.sk-toggleable__control:checked~label.sk-toggleable__label {\n",
       "  color: var(--sklearn-color-text);\n",
       "  background-color: var(--sklearn-color-unfitted-level-2);\n",
       "}\n",
       "\n",
       "#sk-container-id-1 div.sk-label.fitted input.sk-toggleable__control:checked~label.sk-toggleable__label {\n",
       "  background-color: var(--sklearn-color-fitted-level-2);\n",
       "}\n",
       "\n",
       "/* Estimator-specific style */\n",
       "\n",
       "/* Colorize estimator box */\n",
       "#sk-container-id-1 div.sk-estimator input.sk-toggleable__control:checked~label.sk-toggleable__label {\n",
       "  /* unfitted */\n",
       "  background-color: var(--sklearn-color-unfitted-level-2);\n",
       "}\n",
       "\n",
       "#sk-container-id-1 div.sk-estimator.fitted input.sk-toggleable__control:checked~label.sk-toggleable__label {\n",
       "  /* fitted */\n",
       "  background-color: var(--sklearn-color-fitted-level-2);\n",
       "}\n",
       "\n",
       "#sk-container-id-1 div.sk-label label.sk-toggleable__label,\n",
       "#sk-container-id-1 div.sk-label label {\n",
       "  /* The background is the default theme color */\n",
       "  color: var(--sklearn-color-text-on-default-background);\n",
       "}\n",
       "\n",
       "/* On hover, darken the color of the background */\n",
       "#sk-container-id-1 div.sk-label:hover label.sk-toggleable__label {\n",
       "  color: var(--sklearn-color-text);\n",
       "  background-color: var(--sklearn-color-unfitted-level-2);\n",
       "}\n",
       "\n",
       "/* Label box, darken color on hover, fitted */\n",
       "#sk-container-id-1 div.sk-label.fitted:hover label.sk-toggleable__label.fitted {\n",
       "  color: var(--sklearn-color-text);\n",
       "  background-color: var(--sklearn-color-fitted-level-2);\n",
       "}\n",
       "\n",
       "/* Estimator label */\n",
       "\n",
       "#sk-container-id-1 div.sk-label label {\n",
       "  font-family: monospace;\n",
       "  font-weight: bold;\n",
       "  display: inline-block;\n",
       "  line-height: 1.2em;\n",
       "}\n",
       "\n",
       "#sk-container-id-1 div.sk-label-container {\n",
       "  text-align: center;\n",
       "}\n",
       "\n",
       "/* Estimator-specific */\n",
       "#sk-container-id-1 div.sk-estimator {\n",
       "  font-family: monospace;\n",
       "  border: 1px dotted var(--sklearn-color-border-box);\n",
       "  border-radius: 0.25em;\n",
       "  box-sizing: border-box;\n",
       "  margin-bottom: 0.5em;\n",
       "  /* unfitted */\n",
       "  background-color: var(--sklearn-color-unfitted-level-0);\n",
       "}\n",
       "\n",
       "#sk-container-id-1 div.sk-estimator.fitted {\n",
       "  /* fitted */\n",
       "  background-color: var(--sklearn-color-fitted-level-0);\n",
       "}\n",
       "\n",
       "/* on hover */\n",
       "#sk-container-id-1 div.sk-estimator:hover {\n",
       "  /* unfitted */\n",
       "  background-color: var(--sklearn-color-unfitted-level-2);\n",
       "}\n",
       "\n",
       "#sk-container-id-1 div.sk-estimator.fitted:hover {\n",
       "  /* fitted */\n",
       "  background-color: var(--sklearn-color-fitted-level-2);\n",
       "}\n",
       "\n",
       "/* Specification for estimator info (e.g. \"i\" and \"?\") */\n",
       "\n",
       "/* Common style for \"i\" and \"?\" */\n",
       "\n",
       ".sk-estimator-doc-link,\n",
       "a:link.sk-estimator-doc-link,\n",
       "a:visited.sk-estimator-doc-link {\n",
       "  float: right;\n",
       "  font-size: smaller;\n",
       "  line-height: 1em;\n",
       "  font-family: monospace;\n",
       "  background-color: var(--sklearn-color-background);\n",
       "  border-radius: 1em;\n",
       "  height: 1em;\n",
       "  width: 1em;\n",
       "  text-decoration: none !important;\n",
       "  margin-left: 0.5em;\n",
       "  text-align: center;\n",
       "  /* unfitted */\n",
       "  border: var(--sklearn-color-unfitted-level-1) 1pt solid;\n",
       "  color: var(--sklearn-color-unfitted-level-1);\n",
       "}\n",
       "\n",
       ".sk-estimator-doc-link.fitted,\n",
       "a:link.sk-estimator-doc-link.fitted,\n",
       "a:visited.sk-estimator-doc-link.fitted {\n",
       "  /* fitted */\n",
       "  border: var(--sklearn-color-fitted-level-1) 1pt solid;\n",
       "  color: var(--sklearn-color-fitted-level-1);\n",
       "}\n",
       "\n",
       "/* On hover */\n",
       "div.sk-estimator:hover .sk-estimator-doc-link:hover,\n",
       ".sk-estimator-doc-link:hover,\n",
       "div.sk-label-container:hover .sk-estimator-doc-link:hover,\n",
       ".sk-estimator-doc-link:hover {\n",
       "  /* unfitted */\n",
       "  background-color: var(--sklearn-color-unfitted-level-3);\n",
       "  color: var(--sklearn-color-background);\n",
       "  text-decoration: none;\n",
       "}\n",
       "\n",
       "div.sk-estimator.fitted:hover .sk-estimator-doc-link.fitted:hover,\n",
       ".sk-estimator-doc-link.fitted:hover,\n",
       "div.sk-label-container:hover .sk-estimator-doc-link.fitted:hover,\n",
       ".sk-estimator-doc-link.fitted:hover {\n",
       "  /* fitted */\n",
       "  background-color: var(--sklearn-color-fitted-level-3);\n",
       "  color: var(--sklearn-color-background);\n",
       "  text-decoration: none;\n",
       "}\n",
       "\n",
       "/* Span, style for the box shown on hovering the info icon */\n",
       ".sk-estimator-doc-link span {\n",
       "  display: none;\n",
       "  z-index: 9999;\n",
       "  position: relative;\n",
       "  font-weight: normal;\n",
       "  right: .2ex;\n",
       "  padding: .5ex;\n",
       "  margin: .5ex;\n",
       "  width: min-content;\n",
       "  min-width: 20ex;\n",
       "  max-width: 50ex;\n",
       "  color: var(--sklearn-color-text);\n",
       "  box-shadow: 2pt 2pt 4pt #999;\n",
       "  /* unfitted */\n",
       "  background: var(--sklearn-color-unfitted-level-0);\n",
       "  border: .5pt solid var(--sklearn-color-unfitted-level-3);\n",
       "}\n",
       "\n",
       ".sk-estimator-doc-link.fitted span {\n",
       "  /* fitted */\n",
       "  background: var(--sklearn-color-fitted-level-0);\n",
       "  border: var(--sklearn-color-fitted-level-3);\n",
       "}\n",
       "\n",
       ".sk-estimator-doc-link:hover span {\n",
       "  display: block;\n",
       "}\n",
       "\n",
       "/* \"?\"-specific style due to the `<a>` HTML tag */\n",
       "\n",
       "#sk-container-id-1 a.estimator_doc_link {\n",
       "  float: right;\n",
       "  font-size: 1rem;\n",
       "  line-height: 1em;\n",
       "  font-family: monospace;\n",
       "  background-color: var(--sklearn-color-background);\n",
       "  border-radius: 1rem;\n",
       "  height: 1rem;\n",
       "  width: 1rem;\n",
       "  text-decoration: none;\n",
       "  /* unfitted */\n",
       "  color: var(--sklearn-color-unfitted-level-1);\n",
       "  border: var(--sklearn-color-unfitted-level-1) 1pt solid;\n",
       "}\n",
       "\n",
       "#sk-container-id-1 a.estimator_doc_link.fitted {\n",
       "  /* fitted */\n",
       "  border: var(--sklearn-color-fitted-level-1) 1pt solid;\n",
       "  color: var(--sklearn-color-fitted-level-1);\n",
       "}\n",
       "\n",
       "/* On hover */\n",
       "#sk-container-id-1 a.estimator_doc_link:hover {\n",
       "  /* unfitted */\n",
       "  background-color: var(--sklearn-color-unfitted-level-3);\n",
       "  color: var(--sklearn-color-background);\n",
       "  text-decoration: none;\n",
       "}\n",
       "\n",
       "#sk-container-id-1 a.estimator_doc_link.fitted:hover {\n",
       "  /* fitted */\n",
       "  background-color: var(--sklearn-color-fitted-level-3);\n",
       "}\n",
       "</style><div id=\"sk-container-id-1\" class=\"sk-top-container\"><div class=\"sk-text-repr-fallback\"><pre>LogisticRegression()</pre><b>In a Jupyter environment, please rerun this cell to show the HTML representation or trust the notebook. <br />On GitHub, the HTML representation is unable to render, please try loading this page with nbviewer.org.</b></div><div class=\"sk-container\" hidden><div class=\"sk-item\"><div class=\"sk-estimator fitted sk-toggleable\"><input class=\"sk-toggleable__control sk-hidden--visually\" id=\"sk-estimator-id-1\" type=\"checkbox\" checked><label for=\"sk-estimator-id-1\" class=\"sk-toggleable__label fitted sk-toggleable__label-arrow\"><div><div>LogisticRegression</div></div><div><a class=\"sk-estimator-doc-link fitted\" rel=\"noreferrer\" target=\"_blank\" href=\"https://scikit-learn.org/1.6/modules/generated/sklearn.linear_model.LogisticRegression.html\">?<span>Documentation for LogisticRegression</span></a><span class=\"sk-estimator-doc-link fitted\">i<span>Fitted</span></span></div></label><div class=\"sk-toggleable__content fitted\"><pre>LogisticRegression()</pre></div> </div></div></div></div>"
      ],
      "text/plain": [
       "LogisticRegression()"
      ]
     },
     "execution_count": 81,
     "metadata": {},
     "output_type": "execute_result"
    }
   ],
   "source": [
    "model.fit(X_train, y_train)"
   ]
  },
  {
   "cell_type": "code",
   "execution_count": 82,
   "id": "d38f14b5",
   "metadata": {},
   "outputs": [],
   "source": [
    "y_pred = model.predict(X_test)"
   ]
  },
  {
   "cell_type": "code",
   "execution_count": 83,
   "id": "e77403b8",
   "metadata": {},
   "outputs": [
    {
     "name": "stdout",
     "output_type": "stream",
     "text": [
      "Model Accuracy: 0.68\n"
     ]
    }
   ],
   "source": [
    "from sklearn.metrics import accuracy_score\n",
    "\n",
    "print(\"Model Accuracy:\", accuracy_score(y_test, y_pred))"
   ]
  },
  {
   "cell_type": "code",
   "execution_count": 88,
   "id": "f1bdd2c8",
   "metadata": {},
   "outputs": [],
   "source": [
    "def predict_loyalty(income, risk, balance, loans, lending):\n",
    "    input_data = np.array([[income, risk, balance, loans, lending]])\n",
    "    prediction = model.predict(input_data)\n",
    "    return \"Loyal Customer\" if prediction[0] == 1 else \"Not Loyal\""
   ]
  },
  {
   "cell_type": "code",
   "execution_count": 89,
   "id": "e7c0c08a",
   "metadata": {},
   "outputs": [
    {
     "name": "stdout",
     "output_type": "stream",
     "text": [
      "* Running on local URL:  http://127.0.0.1:7860\n",
      "* To create a public link, set `share=True` in `launch()`.\n"
     ]
    },
    {
     "data": {
      "text/html": [
       "<div><iframe src=\"http://127.0.0.1:7860/\" width=\"100%\" height=\"500\" allow=\"autoplay; camera; microphone; clipboard-read; clipboard-write;\" frameborder=\"0\" allowfullscreen></iframe></div>"
      ],
      "text/plain": [
       "<IPython.core.display.HTML object>"
      ]
     },
     "metadata": {},
     "output_type": "display_data"
    },
    {
     "data": {
      "text/plain": []
     },
     "execution_count": 89,
     "metadata": {},
     "output_type": "execute_result"
    },
    {
     "name": "stdout",
     "output_type": "stream",
     "text": [
      "Created dataset file at: .gradio\\flagged\\dataset2.csv\n"
     ]
    },
    {
     "name": "stderr",
     "output_type": "stream",
     "text": [
      "c:\\Users\\moham\\AppData\\Local\\Programs\\Python\\Python313\\Lib\\site-packages\\sklearn\\utils\\validation.py:2739: UserWarning: X does not have valid feature names, but LogisticRegression was fitted with feature names\n",
      "  warnings.warn(\n",
      "c:\\Users\\moham\\AppData\\Local\\Programs\\Python\\Python313\\Lib\\site-packages\\sklearn\\utils\\validation.py:2739: UserWarning: X does not have valid feature names, but LogisticRegression was fitted with feature names\n",
      "  warnings.warn(\n",
      "c:\\Users\\moham\\AppData\\Local\\Programs\\Python\\Python313\\Lib\\site-packages\\sklearn\\utils\\validation.py:2739: UserWarning: X does not have valid feature names, but LogisticRegression was fitted with feature names\n",
      "  warnings.warn(\n",
      "c:\\Users\\moham\\AppData\\Local\\Programs\\Python\\Python313\\Lib\\site-packages\\sklearn\\utils\\validation.py:2739: UserWarning: X does not have valid feature names, but LogisticRegression was fitted with feature names\n",
      "  warnings.warn(\n",
      "c:\\Users\\moham\\AppData\\Local\\Programs\\Python\\Python313\\Lib\\site-packages\\sklearn\\utils\\validation.py:2739: UserWarning: X does not have valid feature names, but LogisticRegression was fitted with feature names\n",
      "  warnings.warn(\n",
      "c:\\Users\\moham\\AppData\\Local\\Programs\\Python\\Python313\\Lib\\site-packages\\sklearn\\utils\\validation.py:2739: UserWarning: X does not have valid feature names, but LogisticRegression was fitted with feature names\n",
      "  warnings.warn(\n",
      "c:\\Users\\moham\\AppData\\Local\\Programs\\Python\\Python313\\Lib\\site-packages\\sklearn\\utils\\validation.py:2739: UserWarning: X does not have valid feature names, but LogisticRegression was fitted with feature names\n",
      "  warnings.warn(\n"
     ]
    }
   ],
   "source": [
    "# Build Gradio interface\n",
    "interface = gr.Interface(\n",
    "    fn=predict_loyalty,\n",
    "    inputs=[\n",
    "        gr.Number(label=\"Estimated Income\"),\n",
    "        gr.Number(label=\"Risk Weighting\"),\n",
    "        gr.Number(label=\"Credit Card Balance\"),\n",
    "        gr.Number(label=\"Bank Loans\"),\n",
    "        gr.Radio([0, 1], label=\"Business Lending (0 = No, 1 = Yes)\"),\n",
    "    ],\n",
    "    outputs=\"text\",\n",
    "    title=\"Bank Customer Loyalty Prediction\",\n",
    "    description=\"Enter customer financial details to predict loyalty status.\"\n",
    ")\n",
    "\n",
    "# Launch the app\n",
    "interface.launch()"
   ]
  }
 ],
 "metadata": {
  "kernelspec": {
   "display_name": "Python (env)",
   "language": "python",
   "name": "python_env"
  },
  "language_info": {
   "codemirror_mode": {
    "name": "ipython",
    "version": 3
   },
   "file_extension": ".py",
   "mimetype": "text/x-python",
   "name": "python",
   "nbconvert_exporter": "python",
   "pygments_lexer": "ipython3",
   "version": "3.13.2"
  }
 },
 "nbformat": 4,
 "nbformat_minor": 5
}
